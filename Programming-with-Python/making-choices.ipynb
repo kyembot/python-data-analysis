{
 "cells": [
  {
   "cell_type": "code",
   "execution_count": 4,
   "metadata": {},
   "outputs": [],
   "source": [
    "import numpy"
   ]
  },
  {
   "cell_type": "code",
   "execution_count": 8,
   "metadata": {},
   "outputs": [
    {
     "name": "stdout",
     "output_type": "stream",
     "text": [
      "Suspicious looking maxima!\n"
     ]
    }
   ],
   "source": [
    "\n",
    "data = numpy.loadtxt(fname='inflammation-01.csv', delimiter=',')\n",
    "\n",
    "max_inflammation_0 = numpy.max(data, axis=0)[0]\n",
    "max_inflammation_20 = numpy.max(data, axis=0)[20]\n",
    "\n",
    "# maximum daily inflammation exhibits a strange behavior and raises one unit a day\n",
    "# let's test the behavior by checking if the max inflammation\n",
    "# in the beginning [0] and in the middle [20] are equal\n",
    "# to the corresponding numbers\n",
    "if max_inflammation_0 == 0 and max_inflammation_20 == 20:\n",
    "    print('Suspicious looking maxima!')\n",
    "    \n",
    "# if the minima per day are all zero, a healthy person is in the study\n",
    "elif numpy.sum(numpy.min(data, axis=0)) == 0:\n",
    "    print('Minima add up to zero!')\n",
    "else:\n",
    "    print('Seems OK!')"
   ]
  },
  {
   "cell_type": "code",
   "execution_count": 9,
   "metadata": {},
   "outputs": [
    {
     "name": "stdout",
     "output_type": "stream",
     "text": [
      "Minima add up to zero!\n"
     ]
    }
   ],
   "source": [
    "data = numpy.loadtxt(fname='inflammation-03.csv', delimiter=',')\n",
    "\n",
    "max_inflammation_0 = numpy.max(data, axis=0)[0]\n",
    "max_inflammation_20 = numpy.max(data, axis=0)[20]\n",
    "\n",
    "if max_inflammation_0 == 0 and max_inflammation_20 == 20:\n",
    "    print('Suspicious looking maxima!')\n",
    "elif numpy.sum(numpy.min(data, axis=0)) == 0:\n",
    "    print('Minima add up to zero!')\n",
    "else:\n",
    "    print('Seems OK!')"
   ]
  },
  {
   "cell_type": "code",
   "execution_count": 15,
   "metadata": {},
   "outputs": [
    {
     "name": "stdout",
     "output_type": "stream",
     "text": [
      "True\n"
     ]
    }
   ],
   "source": [
    "a = 5\n",
    "b = 5.1\n",
    "\n",
    "print(abs(b-a) <= 0.1* abs(b))\n"
   ]
  },
  {
   "cell_type": "code",
   "execution_count": 26,
   "metadata": {},
   "outputs": [
    {
     "name": "stdout",
     "output_type": "stream",
     "text": [
      "large_files =  ['inflammation-01.csv', 'inflammation-02.csv']\n",
      "small_files =  ['small-01.csv', 'small-02.csv']\n",
      "other_files =  ['myscript.py']\n"
     ]
    }
   ],
   "source": [
    "files = ['inflammation-01.csv', 'myscript.py', 'inflammation-02.csv', 'small-01.csv', 'small-02.csv']\n",
    "\n",
    "large_files = []\n",
    "small_files = []\n",
    "other_files = []\n",
    "\n",
    "for f in files:\n",
    "    if f.startswith(\"inflammation-\"):\n",
    "        large_files.append(f)\n",
    "    elif f.startswith(\"small\"):\n",
    "        small_files.append(f)\n",
    "    else:\n",
    "        other_files.append(f)\n",
    "        \n",
    "print('large_files = ', large_files)\n",
    "print('small_files = ', small_files)\n",
    "print('other_files = ', other_files)\n",
    "\n"
   ]
  },
  {
   "cell_type": "code",
   "execution_count": 29,
   "metadata": {},
   "outputs": [
    {
     "name": "stdout",
     "output_type": "stream",
     "text": [
      "Type a sentence: \n",
      "AAaaaaa EEEEeeee Ooooooiii\n",
      "The number of vowels in that sentence is:  24\n"
     ]
    }
   ],
   "source": [
    "sentence = str(input('Type a sentence: \\n'))\n",
    "vowel = 0\n",
    "\n",
    "for char in sentence:\n",
    "    if char in 'AEIOUaeiou':\n",
    "        vowel += 1\n",
    "\n",
    "print('The number of vowels in that sentence is: ', vowel)\n",
    "        "
   ]
  },
  {
   "cell_type": "code",
   "execution_count": null,
   "metadata": {},
   "outputs": [],
   "source": []
  }
 ],
 "metadata": {
  "kernelspec": {
   "display_name": "Python 3",
   "language": "python",
   "name": "python3"
  },
  "language_info": {
   "codemirror_mode": {
    "name": "ipython",
    "version": 3
   },
   "file_extension": ".py",
   "mimetype": "text/x-python",
   "name": "python",
   "nbconvert_exporter": "python",
   "pygments_lexer": "ipython3",
   "version": "3.7.1"
  }
 },
 "nbformat": 4,
 "nbformat_minor": 2
}
